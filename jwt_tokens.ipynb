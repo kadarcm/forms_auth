{
 "cells": [
  {
   "cell_type": "markdown",
   "id": "23227b53",
   "metadata": {},
   "source": [
    "### Imports"
   ]
  },
  {
   "cell_type": "code",
   "execution_count": 4,
   "id": "716d8be8",
   "metadata": {},
   "outputs": [],
   "source": [
    "import base64, json \n",
    "from Crypto.Signature import pkcs1_15\n",
    "from Crypto.Hash import SHA256\n",
    "from  Crypto.PublicKey.RSA import RsaKey\n"
   ]
  },
  {
   "cell_type": "markdown",
   "id": "d11ed4c0",
   "metadata": {},
   "source": [
    "### Get a Token \n",
    "we want to split the token into its 3 parts\n",
    "- header \n",
    "- data\n",
    "- signature"
   ]
  },
  {
   "cell_type": "code",
   "execution_count": 5,
   "id": "9e4d9432",
   "metadata": {},
   "outputs": [
    {
     "name": "stdout",
     "output_type": "stream",
     "text": [
      "eyJraWQiOiI4U2dkYlR2OFJJUTNxNDZLZjR1S2phYmdYTXFlNUxHU0ppMFBON1J0UE5VPSIsImFsZyI6IlJTMjU2In0\n",
      "header {'kid': '8SgdbTv8RIQ3q46Kf4uKjabgXMqe5LGSJi0PN7RtPNU=', 'alg': 'RS256'} \n",
      "\n",
      "\n",
      "eyJzdWIiOiIwNDQ4ZDQyOC02MDIxLTcwYzgtMjljNS0zZTE2OTIwODUzZjQiLCJpc3MiOiJodHRwczpcL1wvY29nbml0by1pZHAudXMtZWFzdC0xLmFtYXpvbmF3cy5jb21cL3VzLWVhc3QtMV9ZWlBxM2ZSMVgiLCJjb2duaXRvOnVzZXJuYW1lIjoibmV0Ym94XC84YjAwNGRmNy0xZDE3LTQwOWEtOWRkYy1iMzhjYTFjOWU5MTMiLCJvcmlnaW5fanRpIjoiZDE0ZTI1YjYtYmU2NC00ZmZiLWI1ZWYtNjYyZGIwOTdlMDJlIiwiYXVkIjoiMTV1bjFwZTM0Z3R2YzR1cXM3ZWxya3Y0cjUiLCJldmVudF9pZCI6ImQ2YTgwM2RkLTBjY2YtNGUxYS04MmJiLTFiNWRiMjI2Y2JmNCIsInRva2VuX3VzZSI6ImlkIiwiYXV0aF90aW1lIjoxNzUwOTU0MzQxLCJuYW1lIjoiYidDaHJpc3RvcGhlciBLYWRhciciLCJjdXN0b206bGlzYV9hY2Nlc3MiOiJ7XCJDb250cm9sXCI6XCJ0cnVlXCIsXCJIZWxwXCI6XCJ0cnVlXCIsXCJRdWVyeVwiOlwidHJ1ZVwifSIsImV4cCI6MTc1MTA0MDc0MSwiaWF0IjoxNzUwOTU0MzQxLCJqdGkiOiI3OWRiMjcxZS01NzUxLTQ5YjUtOWRhMC03MTlhMmI2ODliMTgiLCJlbWFpbCI6ImNocmlzdG9waGVyLmthZGFyQGhvbmV5d2VsbC5jb20ifQ\n",
      "claims \n",
      " {\n",
      "    \"sub\": \"0448d428-6021-70c8-29c5-3e16920853f4\",\n",
      "    \"iss\": \"https://cognito-idp.us-east-1.amazonaws.com/us-east-1_YZPq3fR1X\",\n",
      "    \"cognito:username\": \"netbox/8b004df7-1d17-409a-9ddc-b38ca1c9e913\",\n",
      "    \"origin_jti\": \"d14e25b6-be64-4ffb-b5ef-662db097e02e\",\n",
      "    \"aud\": \"15un1pe34gtvc4uqs7elrkv4r5\",\n",
      "    \"event_id\": \"d6a803dd-0ccf-4e1a-82bb-1b5db226cbf4\",\n",
      "    \"token_use\": \"id\",\n",
      "    \"auth_time\": 1750954341,\n",
      "    \"name\": \"b'Christopher Kadar'\",\n",
      "    \"custom:lisa_access\": \"{\\\"Control\\\":\\\"true\\\",\\\"Help\\\":\\\"true\\\",\\\"Query\\\":\\\"true\\\"}\",\n",
      "    \"exp\": 1751040741,\n",
      "    \"iat\": 1750954341,\n",
      "    \"jti\": \"79db271e-5751-49b5-9da0-719a2b689b18\",\n",
      "    \"email\": \"christopher.kadar@honeywell.com\"\n",
      "} \n",
      "\n",
      "\n",
      "2KElwq99g1WCkLnO4C2USjZiiQM59MmQBaeRxdR70dfSxGnRXFZyPT-natgdoOTR3mbod-RNKSHnlk9ouwuoB0-DASCqtplHKRs5R7oX4MKN6eM3mBzk---BvKtJSVmTBVEhiS8f0OXb1NKttr_NzeQfpZsjXjub7Otpm6wkKiyKC5SN5TdYybwTOkMBW27FlvclmzsTsl5bQTWfmY0xaBWDGLn7DKOFl7Wge44WV2n48Caml9vnrkTHoNelJ3AoyVVNqEwYyJBLpIq44mMLq_vWf5pWFn3TDBd5zX2x0y9MZDYyW-1k9fCTc_j-MEKMF5J_y1PacK6XiBgxWRhlkw\n",
      "sig lenghth 256 \n",
      "sig byts b\"\\xd8\\xa1%\\xc2\\xaf}\\x83U\\x82\\x90\\xb9\\xce\\xe0-\\x94J6b\\x89\\x039\\xf4\\xc9\\x90\\x05\\xa7\\x91\\xc5\\xd4{\\xd1\\xd7\\xd2\\xc4i\\xd1\\\\Vr=?\\xa7j\\xd8\\x1d\\xa0\\xe4\\xd1\\xdef\\xe8w\\xe4M)!\\xe7\\x96Oh\\xbb\\x0b\\xa8\\x07O\\x83\\x01 \\xaa\\xb6\\x99G)\\x1b9G\\xba\\x17\\xe0\\xc2\\x8d\\xe9\\xe37\\x98\\x1c\\xe4\\xfb\\xef\\x81\\xbc\\xabIIY\\x93\\x05Q!\\x89/\\x1f\\xd0\\xe5\\xdb\\xd4\\xd2\\xad\\xb6\\xbf\\xcd\\xcd\\xe4\\x1f\\xa5\\x9b#^;\\x9b\\xec\\xebi\\x9b\\xac$*,\\x8a\\x0b\\x94\\x8d\\xe57X\\xc9\\xbc\\x13:C\\x01[n\\xc5\\x96\\xf7%\\x9b;\\x13\\xb2^[A5\\x9f\\x99\\x8d1h\\x15\\x83\\x18\\xb9\\xfb\\x0c\\xa3\\x85\\x97\\xb5\\xa0{\\x8e\\x16Wi\\xf8\\xf0&\\xa6\\x97\\xdb\\xe7\\xaeD\\xc7\\xa0\\xd7\\xa5'p(\\xc9UM\\xa8L\\x18\\xc8\\x90K\\xa4\\x8a\\xb8\\xe2c\\x0b\\xab\\xfb\\xd6\\x7f\\x9aV\\x16}\\xd3\\x0c\\x17y\\xcd}\\xb1\\xd3/Ld62[\\xedd\\xf5\\xf0\\x93s\\xf8\\xfe0B\\x8c\\x17\\x92\\x7f\\xcbS\\xdap\\xae\\x97\\x88\\x181Y\\x18e\\x93\" \n",
      "\n",
      "\n"
     ]
    }
   ],
   "source": [
    "id_token = \"eyJraWQiOiI4U2dkYlR2OFJJUTNxNDZLZjR1S2phYmdYTXFlNUxHU0ppMFBON1J0UE5VPSIsImFsZyI6IlJTMjU2In0.eyJzdWIiOiIwNDQ4ZDQyOC02MDIxLTcwYzgtMjljNS0zZTE2OTIwODUzZjQiLCJpc3MiOiJodHRwczpcL1wvY29nbml0by1pZHAudXMtZWFzdC0xLmFtYXpvbmF3cy5jb21cL3VzLWVhc3QtMV9ZWlBxM2ZSMVgiLCJjb2duaXRvOnVzZXJuYW1lIjoibmV0Ym94XC84YjAwNGRmNy0xZDE3LTQwOWEtOWRkYy1iMzhjYTFjOWU5MTMiLCJvcmlnaW5fanRpIjoiZDE0ZTI1YjYtYmU2NC00ZmZiLWI1ZWYtNjYyZGIwOTdlMDJlIiwiYXVkIjoiMTV1bjFwZTM0Z3R2YzR1cXM3ZWxya3Y0cjUiLCJldmVudF9pZCI6ImQ2YTgwM2RkLTBjY2YtNGUxYS04MmJiLTFiNWRiMjI2Y2JmNCIsInRva2VuX3VzZSI6ImlkIiwiYXV0aF90aW1lIjoxNzUwOTU0MzQxLCJuYW1lIjoiYidDaHJpc3RvcGhlciBLYWRhciciLCJjdXN0b206bGlzYV9hY2Nlc3MiOiJ7XCJDb250cm9sXCI6XCJ0cnVlXCIsXCJIZWxwXCI6XCJ0cnVlXCIsXCJRdWVyeVwiOlwidHJ1ZVwifSIsImV4cCI6MTc1MTA0MDc0MSwiaWF0IjoxNzUwOTU0MzQxLCJqdGkiOiI3OWRiMjcxZS01NzUxLTQ5YjUtOWRhMC03MTlhMmI2ODliMTgiLCJlbWFpbCI6ImNocmlzdG9waGVyLmthZGFyQGhvbmV5d2VsbC5jb20ifQ.2KElwq99g1WCkLnO4C2USjZiiQM59MmQBaeRxdR70dfSxGnRXFZyPT-natgdoOTR3mbod-RNKSHnlk9ouwuoB0-DASCqtplHKRs5R7oX4MKN6eM3mBzk---BvKtJSVmTBVEhiS8f0OXb1NKttr_NzeQfpZsjXjub7Otpm6wkKiyKC5SN5TdYybwTOkMBW27FlvclmzsTsl5bQTWfmY0xaBWDGLn7DKOFl7Wge44WV2n48Caml9vnrkTHoNelJ3AoyVVNqEwYyJBLpIq44mMLq_vWf5pWFn3TDBd5zX2x0y9MZDYyW-1k9fCTc_j-MEKMF5J_y1PacK6XiBgxWRhlkw\"\n",
    "header, data, signature = id_token.split(\".\")\n",
    "signed_data = f\"{header}.{data}\".encode()\n",
    "\n",
    "print(header)\n",
    "# padd the b64 extra is striped later\n",
    "algo_json =json.loads(base64.urlsafe_b64decode(header + \"====\"))\n",
    "print(\"header\",algo_json, \"\\n\\n\")\n",
    "\n",
    "print(data)\n",
    "# padd the b64 extra is striped later\n",
    "body_json = json.loads( base64.urlsafe_b64decode(data +\"====\"))\n",
    "print(\"claims \\n\", json.dumps(body_json, indent=4),\"\\n\\n\")\n",
    "\n",
    "print(signature)\n",
    "# padd the b64 extra is striped later\n",
    "signature_bytes = base64.urlsafe_b64decode(signature +\"===\")\n",
    "print(\"sig lenghth\", len(signature_bytes), \"\\nsig byts\", signature_bytes,\"\\n\\n\")\n"
   ]
  },
  {
   "cell_type": "markdown",
   "id": "e4da57fa",
   "metadata": {},
   "source": [
    "### Verify the token\n",
    "to verify the token we need to \n",
    "- retrieve the public key from the issuer\n",
    "- hash the first part of the token using the correct hash algorithm\n",
    "- verify that against the signature bytes"
   ]
  },
  {
   "cell_type": "code",
   "execution_count": 6,
   "id": "5faf57aa",
   "metadata": {},
   "outputs": [
    {
     "name": "stdout",
     "output_type": "stream",
     "text": [
      "the hash for the header and data is:  2e5d4670e17136aeb61f95e90217d9df1eec7b437ea44d8b6776a2f1d1fdefa3\n",
      "signatures Check\n"
     ]
    }
   ],
   "source": [
    "\n",
    "# retrieve the n and the e for the correct key\n",
    "key_n =\"6mHQI6nOfh_bzLlyzBn6vZOMBfVCA5vEAk1Izql-YNKQNdu9zjQLgRizmzJcmppM7fSzTjgfgCowhGtJKFJWSyBL-YuyHKG64V4Q1kXf0WB7pyjAIlkRGfSO2AcC3uJZNrT--0yKQLQSJRA3_t-Ef1nEA4lFvsfrMvs4Jp25rJTzb-FWeoI-SHlZh6fixAT1e-wCnT0iuFH3fJ3nGJl4YDA0y1ZtUQfTuBdNVJNvCLGRnyCsQhaK_za2FB6Ji8Z_1AwLno25tuJMn5PPFF8YGE3Gs79g_JGoyH3HLcxRk778qhIYwG0ZOcBPcmkNteIouVkGBct6tQXCWHECSbHamQ\"\n",
    "key_e =\"AQAB\"\n",
    "# pad the b64 extra is striped later\n",
    "key_n_bytes = base64.urlsafe_b64decode(key_n+\"===\")\n",
    "key_e_bytes = base64.urlsafe_b64decode(key_e+\"===\")\n",
    "# create a rsa key object\n",
    "public_key = RsaKey(n=int.from_bytes(key_n_bytes), e= int.from_bytes(key_e_bytes))\n",
    "\n",
    "# hash the signed data\n",
    "header_data_hash = SHA256.new(signed_data)\n",
    "print(\"the hash for the header and data is: \", header_data_hash.hexdigest())\n",
    "\n",
    "# create a verifier object with the correct algorithm\n",
    "verifier = pkcs1_15.new(public_key)\n",
    "try:\n",
    "    verifier.verify(header_data_hash, signature_bytes )\n",
    "    print(\"signatures Check\")\n",
    "\n",
    "except Exception as e:\n",
    "    print(e)\n",
    "\n",
    "\n",
    "\n",
    "\n"
   ]
  },
  {
   "cell_type": "markdown",
   "id": "6fbb3e49",
   "metadata": {},
   "source": [
    "### The Verification Algo\n",
    "first we need to get the base the exponent and the modulus\n",
    "$$\n",
    "data_hash = ({base} ^ {exponent}) \\bmod {modulus}\n",
    "$$\n",
    "- Base is the last half of the token referred to as the signature\n",
    "- Exponent is retrieved from the servers well know endpoint\n",
    "- Modulus is also retrieved from the servers well known end point\n"
   ]
  },
  {
   "cell_type": "code",
   "execution_count": 30,
   "id": "c6403700",
   "metadata": {},
   "outputs": [
    {
     "name": "stdout",
     "output_type": "stream",
     "text": [
      "base:  27346938667556469859775023257931336901424700126618151627227941568002364931809435138559155911779744457946966980188630850114330950487608269216060472542668200296308712940988821995901832590941106857479652380805474955347823705708287895112696290848637393768718925511383764543212247822792349363319419123615485821608956152947540038359044235736839931013162458188384449531102794035519489773402444566114226123335074779385674191143818082629724491849259257660396061900233100337336538359761192132875926925307672832704538166278448438678613241955169482420931915518817885246594110987012109626377544851374528663031832006695310293755283\n",
      "exp:  65537\n",
      "mod:  29587996771826123921634923274325152312597430750798826739546293313104353231950005280507228683309618559613592099057703019015461911886278669156535977666354804960658434011012585714565614950157369531863651868813735745883690185800575320139482400581525719215941289252162535220488706688610059292874937590188160293652815010155049215663172905610144159047275773769623067941913651271101882803184671508335215213867676533706118481893792693231169065599351893560749176915858093752120300194227802280611116675602446946771733116247458771454285535365211733670751346885022000770810332243037254644152810004291939329315338826646362770234009\n",
      "encrypted signature int:  986236757547332986472011617696226561292849812918563355472727826767720188564083584387121625107510786855734801053524719833194566624465665316622563244215340671405971599343902468620306327831715457360719532421388780770165778156818229863337344187575566725786793391480600129482653072861971002459947277805295727097226389568776499707662505334062639449916265137796823793276300221537201727072401742985542559596685092673521228140822200236743113743661549252453726123450722876929538747702356573783116197523966334991563351853851212597377279504828784691343233664059379313922440130108068011361412904373781300474470608984585662371\n",
      "encrypted signature:             0001ffffffffffffffffffffffffffffffffffffffffffffffffffffffffffffffffffffffffffffffffffffffffffffffffffffffffffffffffffffffffffffffffffffffffffffffffffffffffffffffffffffffffffffffffffffffffffffffffffffffffffffffffffffffffffffffffffffffffffffffffffffffffffffffffffffffffffffffffffffffffffffffffffffffffffffffffffffffffffffffffffffffffffffffffffffffffffffffffffffffffffffffffffffffffffffffffffffffffffffffffffff003031300d0609608648016503040201050004202e5d4670e17136aeb61f95e90217d9df1eec7b437ea44d8b6776a2f1d1fdefa3\n",
      "header and Data hashed encoded:  0001ffffffffffffffffffffffffffffffffffffffffffffffffffffffffffffffffffffffffffffffffffffffffffffffffffffffffffffffffffffffffffffffffffffffffffffffffffffffffffffffffffffffffffffffffffffffffffffffffffffffffffffffffffffffffffffffffffffffffffffffffffffffffffffffffffffffffffffffffffffffffffffffffffffffffffffffffffffffffffffffffffffffffffffffffffffffffffffffffffffffffffffffffffffffffffffffffffffffffffffffffffff003031300d0609608648016503040201050004202e5d4670e17136aeb61f95e90217d9df1eec7b437ea44d8b6776a2f1d1fdefa3\n",
      "2e5d4670e17136aeb61f95e90217d9df1eec7b437ea44d8b6776a2f1d1fdefa3\n"
     ]
    }
   ],
   "source": [
    "sig_int = int().from_bytes(signature_bytes)\n",
    "# hash_int =int().from_bytes(header_data_hash.digest())\n",
    "print(\"base: \", sig_int)\n",
    "exponent = int.from_bytes(key_e_bytes)\n",
    "print(\"exp: \" ,exponent)\n",
    "modulus = int.from_bytes(key_n_bytes)\n",
    "print(\"mod: \",modulus)\n",
    "\n",
    "enc_sig_int = pow(sig_int, exponent, modulus)\n",
    "print(\"encrypted signature int: \", enc_sig_int)\n",
    "\n",
    "\n",
    "enc_sig_bytes = enc_sig_int.to_bytes(length=256, signed=True)\n",
    "print(\"encrypted signature:            \",enc_sig_bytes.hex())\n",
    "print(\"header and Data hashed encoded: \",pkcs1_15._EMSA_PKCS1_V1_5_ENCODE(header_data_hash,256, True).hex())\n",
    "some_padding ='0001ffffffffffffffffffffffffffffffffffffffffffffffffffffffffffffffffffffffffffffffffffffffffffffffffffffffffffffffffffffffffffffffffffffffffffffffffffffffffffffffffffffffffffffffffffffffffffffffffffffffffffffffffffffffffffffffffffffffffffffffffffffffffffffffffffffffffffffffffffffffffffffffffffffffffffffffffffffffffffffffffffffffffffffffffffffffffffffffffffffffffffffffffffffffffffffffffffffffffffffffffffff003031300d060960864801650304020105000420'\n",
    "some_padding=\"\"\n",
    "print(some_padding+ header_data_hash.digest().hex())\n",
    "# print(signature_bytes.hex())\n",
    "# signature_encrypted = public_key._encrypt(int().from_bytes(signature_bytes))\n",
    "# sig_enc_bytes =signature_encrypted.to_bytes(length=256)\n",
    "# sig_enc_bytes.hex()"
   ]
  },
  {
   "cell_type": "markdown",
   "id": "5f1fb2cf",
   "metadata": {},
   "source": [
    "### What are we doing\n",
    "the signature provided by the Token issuer attached to the end of the token is basically the hash of the header and data asymmetrically decrypted with the private rsa key. The token is then verified by using the public key to re-encrypt the signature and obtain the hash of the header and data.\n",
    " \\\n",
    " \\\n",
    "The reason this is secure is because you cannot directly compute the encryption given by $$ c = b^e \\bmod m  $$ the Numbers grow to large very quickly causing  slow downs and overflows\n",
    "\n",
    "\n",
    "### Simplified large mod math\n",
    "below is the simplified large modulus math however there is a binary square method which decreases the iterations to the length of the binary  here [wikipedia](https://en.wikipedia.org/wiki/Modular_exponentiation)\n",
    "\n"
   ]
  },
  {
   "cell_type": "code",
   "execution_count": 49,
   "id": "e4d821de",
   "metadata": {},
   "outputs": [
    {
     "name": "stdout",
     "output_type": "stream",
     "text": [
      "[13, 8, 12, 18, 4, 6, 9, 2, 3, 16, 1, 13, 8, 12, 18, 4, 6, 9, 2, 3, 16, 1, 13, 8, 12]\n",
      "12\n"
     ]
    }
   ],
   "source": [
    "def powMod(x, n, M):\n",
    "    res = 1\n",
    "    mod_list =[]\n",
    "    # loop from 1 to n\n",
    "    for _ in range(n):\n",
    "                \n",
    "        # Multiplying res with x\n",
    "        # and taking modulo to avoid overflow\n",
    "        res = (res * x) % M\n",
    "        mod_list.append(res)\n",
    "    print(mod_list)\n",
    "    return res\n",
    "\n",
    "print(powMod(13,25,23))\n",
    "# 3^2 =9 => 9 % 4 = 1\n",
    "\n",
    "# (3 % 4)*3 % 4"
   ]
  },
  {
   "cell_type": "markdown",
   "id": "4541dd53",
   "metadata": {},
   "source": [
    "# Generating the Signature\n",
    "it is impossible to generate the signature without knowing the secret key which is made up of multiple parts listed below\n",
    "- n : The modulus. This is public\n",
    "- e : The public exponent.\n",
    "- d : The private exponent. Only required for private keys.\n",
    "- p : The first factor of the modulus. Only required for private keys.\n",
    "- q : The second factor of the modulus. Only required for private keys.\n",
    "- u : The CRT coefficient (inverse of p modulo q). Only required for private keys.\n",
    "- dp: d % (p -1) also equal to (e⁻¹) mod (p-1)\n",
    "- dq: d % (q-1) also equal to  (e⁻¹) mod (q-1)\n",
    "\\\n",
    "\\\n",
    "remember generating the signature is basically finding b for a given c and e in the equation\n",
    "$$\n",
    "c = b^e \\bmod m\n",
    "$$\n",
    "\\\n",
    "\\\n",
    "There is some math Identity that is exploited to do this i am not entire sure how this works\n",
    "$$\n",
    "c = b^e \\bmod m = d^{−e} \\bmod m \\\\ \\text{where e < 0 and}\\\\b ⋅ d ≡ 1 \\; (\\bmod \\; m).\n",
    "$$\n",
    "the crypto library pycriptodome does this \n",
    "\n",
    "![image](decrypt_rsa_algo.jpg)\n",
    "\n"
   ]
  },
  {
   "cell_type": "code",
   "execution_count": null,
   "id": "fc82bedd",
   "metadata": {},
   "outputs": [
    {
     "ename": "NameError",
     "evalue": "name 'invert' is not defined",
     "output_type": "error",
     "traceback": [
      "\u001b[31m---------------------------------------------------------------------------\u001b[39m",
      "\u001b[31mNameError\u001b[39m                                 Traceback (most recent call last)",
      "\u001b[36mCell\u001b[39m\u001b[36m \u001b[39m\u001b[32mIn[59]\u001b[39m\u001b[32m, line 1\u001b[39m\n\u001b[32m----> \u001b[39m\u001b[32m1\u001b[39m \u001b[38;5;28mprint\u001b[39m(\u001b[43minvert\u001b[49m(\u001b[38;5;28mbin\u001b[39m(\u001b[32m6\u001b[39m)))\n\u001b[32m      2\u001b[39m \u001b[38;5;28mprint\u001b[39m(\u001b[38;5;28mbin\u001b[39m(\u001b[38;5;28mint\u001b[39m(\u001b[32m6\u001b[39m).\u001b[34m__invert__\u001b[39m()))\n\u001b[32m      3\u001b[39m \u001b[38;5;28mprint\u001b[39m(\u001b[38;5;28mbin\u001b[39m(\u001b[38;5;28mint\u001b[39m(\u001b[32m6\u001b[39m).\u001b[34m__invert__\u001b[39m()), \u001b[38;5;28mbin\u001b[39m(\u001b[32m6\u001b[39m))\n",
      "\u001b[31mNameError\u001b[39m: name 'invert' is not defined"
     ]
    }
   ],
   "source": [
    "print(bin(6))\n",
    "print(bin(int(6).__invert__()))\n",
    "print(bin(int(6).__invert__()), bin(6))"
   ]
  }
 ],
 "metadata": {
  "kernelspec": {
   "display_name": ".venv",
   "language": "python",
   "name": "python3"
  },
  "language_info": {
   "codemirror_mode": {
    "name": "ipython",
    "version": 3
   },
   "file_extension": ".py",
   "mimetype": "text/x-python",
   "name": "python",
   "nbconvert_exporter": "python",
   "pygments_lexer": "ipython3",
   "version": "3.12.10"
  }
 },
 "nbformat": 4,
 "nbformat_minor": 5
}
