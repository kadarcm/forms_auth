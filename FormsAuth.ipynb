{
 "cells": [
  {
   "cell_type": "code",
   "execution_count": null,
   "id": "85257ec5",
   "metadata": {},
   "outputs": [
    {
     "name": "stdout",
     "output_type": "stream",
     "text": [
      "128\n"
     ]
    }
   ],
   "source": [
    "\n",
    "decryption_key =\"D99054E776CB293D546C4091B617A70CBB464117CF1D6429\"\n",
    "validation_key =\"DAF0934BA4B44017CD792A9D93694933B1373C02F1DC04432E9AF625E9B743E4C76FA06D5298450460BDE67915D6A12D174D7815D5F27A9F7CDACCC5C34BDEB1\"\n",
    "decryption_key_bytes = bytes.fromhex(decryption_key)\n",
    "validation_key_bytes = bytes.fromhex(validation_key)\n",
    "key_purpose =\"FormsAuthentication.Ticket\".encode()\n",
    "key_purpose_padded =  b'\\x00'*4 + key_purpose +  b'\\x00' +(len(decryption_key_bytes)*8).to_bytes(length=4, byteorder=\"big\", signed=False)\n",
    "key_purpose_paddedv =  b'\\x00'*4 + key_purpose +  b'\\x00' +(len(validation_key_bytes)*8).to_bytes(length=4, byteorder=\"big\", signed=False)\n",
    "\n",
    "print(len(validation_key))\n",
    "\n",
    "cookie_hex =\"\";\n",
    "cookie_bytes =bytes.fromhex(cookie_hex)\n",
    "cookie_bytes_list =[x for x in cookie_bytes ]\n",
    "\n",
    "hash_size =64\n",
    "cookie_hash = cookie_bytes[-64:]\n",
    "cookie_hash_list=[x for x in cookie_hash ]"
   ]
  },
  {
   "cell_type": "code",
   "execution_count": 2,
   "id": "419d8967",
   "metadata": {},
   "outputs": [
    {
     "data": {
      "text/plain": [
       "b'\\x00\\x00\\x02\\x00'"
      ]
     },
     "execution_count": 2,
     "metadata": {},
     "output_type": "execute_result"
    }
   ],
   "source": [
    "(len(validation_key_bytes)*8).to_bytes(length=4, byteorder=\"big\", signed=False)"
   ]
  },
  {
   "cell_type": "code",
   "execution_count": null,
   "id": "973cf621",
   "metadata": {},
   "outputs": [
    {
     "name": "stdout",
     "output_type": "stream",
     "text": [
      "decryption_Bytes [217, 144, 84, 231, 118, 203, 41, 61, 84, 108, 64, 145, 182, 23, 167, 12, 187, 70, 65, 23, 207, 29, 100, 41]\n",
      "length of key in byts 192\n",
      "validation_key_btes [218, 240, 147, 75, 164, 180, 64, 23, 205, 121, 42, 157, 147, 105, 73, 51, 177, 55, 60, 2, 241, 220, 4, 67, 46, 154, 246, 37, 233, 183, 67, 228, 199, 111, 160, 109, 82, 152, 69, 4, 96, 189, 230, 121, 21, 214, 161, 45, 23, 77, 120, 21, 213, 242, 122, 159, 124, 218, 204, 197, 195, 75, 222, 177]\n",
      "key_purpose [70, 111, 114, 109, 115, 65, 117, 116, 104, 101, 110, 116, 105, 99, 97, 116, 105, 111, 110, 46, 84, 105, 99, 107, 101, 116]\n",
      "key_purpose_padded [0, 0, 0, 0, 70, 111, 114, 109, 115, 65, 117, 116, 104, 101, 110, 116, 105, 99, 97, 116, 105, 111, 110, 46, 84, 105, 99, 107, 101, 116, 0, 0, 0, 0, 192]\n",
      "coockieBytes [57, 94, 81, 136, 31, 226, 165, 93, 246, 70, 116, 46, 157, 59, 9, 82, 76, 96, 124, 244, 31, 44, 137, 127, 148, 251, 139, 72, 9, 22, 241, 7, 201, 169, 100, 223, 180, 255, 107, 214, 124, 21, 162, 69, 111, 178, 249, 169, 144, 159, 61, 140, 226, 216, 240, 124, 176, 181, 130, 14, 36, 202, 228, 88, 195, 59, 137, 207, 31, 132, 61, 232, 202, 159, 93, 79, 80, 237, 90, 209, 135, 45, 171, 80, 133, 139, 73, 60, 236, 214, 238, 82, 213, 255, 0, 53, 173, 237, 241, 228, 31, 253, 175, 229, 65, 207, 245, 146, 120, 156, 38, 82, 184, 234, 122, 129, 138, 92, 19, 237, 143, 106, 205, 105, 132, 170, 149, 12, 176, 88, 217, 233, 193, 215, 115, 55, 20, 16, 25, 3, 108, 181, 20, 99, 63, 210, 104, 241, 227, 238, 25, 4, 91, 53, 123, 211, 31, 32, 172, 70, 108, 94, 112, 123, 59, 254, 180, 80, 107, 33, 127, 236, 137, 17, 246, 107, 101, 81, 86, 15, 246, 160, 172, 13, 109, 3, 8, 173, 228, 180, 4, 45, 211, 100, 193, 30, 213, 57, 135, 228, 189, 26, 105, 92, 230, 78, 118, 123, 117, 56, 107, 35, 236, 52, 48, 253, 157, 179, 49, 138, 31, 210, 95, 224, 156, 221, 245, 209, 106, 37, 204, 39, 99, 234, 120, 80, 113, 30, 105, 4, 77, 32, 115, 191, 116, 73, 252, 191, 252, 142, 125, 215, 38, 107, 144, 180, 14, 115, 126, 171, 119, 173, 114, 29, 92, 222, 166, 17, 123, 176, 238, 26, 157, 34, 34, 94, 194, 45, 125, 195, 243, 235, 60, 225, 98, 25, 135, 43, 165, 37, 132, 158, 98, 208, 75, 128, 201, 90, 5, 32, 18, 177, 49, 20, 140, 64, 24, 133, 96, 41, 138, 91, 166, 211, 109, 229, 193, 199, 194, 157, 186, 193, 80, 27, 205, 185, 191, 12, 134, 102, 44, 98, 28, 135, 222, 38, 120, 157, 104, 252, 200, 64, 168, 150, 221, 84, 198, 43, 189, 61, 176, 53, 200, 246, 195, 208, 7, 148, 103, 226, 28, 237, 179, 173, 193, 231, 239, 50, 187, 165, 134, 21, 208, 63, 30, 165, 246, 192, 148, 105, 22, 228, 58, 72, 224, 113, 153, 85, 100, 94, 26, 76, 234, 47, 195, 95, 136, 111, 9, 192, 139, 137, 79, 134, 98, 110, 53, 129, 8, 45, 206, 11, 101, 62, 42, 99, 13, 188, 187, 53, 186, 207, 207, 11, 31, 26, 184, 209, 87, 168, 137, 3, 118, 86, 23, 41, 183, 163, 43, 25, 60, 221, 127, 226, 208, 157, 52, 76, 244, 178, 66, 69, 30, 151, 10, 192, 165, 232, 34, 159, 249, 157, 15, 24, 30, 99, 141, 251, 186, 197, 109, 222, 94, 94, 239, 76, 167, 241, 218, 97, 202, 30, 153, 131, 125, 81, 99, 137, 74, 184, 188, 32, 224, 147, 233, 219, 42, 182, 132, 190, 158, 204, 75, 8, 238, 126, 130, 166, 186, 57, 203, 194, 147, 95, 234, 21, 245, 163, 217, 23, 137, 191, 124, 182, 43, 239, 157, 192, 167, 118, 153, 127, 46, 228, 24, 147, 208, 168, 163, 212, 206, 74, 198, 20, 109, 120, 131, 187, 127, 201, 81, 161, 148, 216, 35, 13, 26, 74, 69, 35, 32, 47, 176, 197, 40, 146, 93, 84, 22, 58, 246, 241, 78, 7, 86, 218, 200, 47, 251, 147, 128, 189, 48, 99, 34, 172, 139, 211, 173, 35, 61, 254, 79, 37, 142, 97, 223, 84, 149, 53, 8, 164, 170, 211, 104, 132, 111, 97, 193, 105, 146, 159, 36, 42, 162, 78, 122, 66, 207, 109, 242, 175, 56, 146]\n",
      "cookieHahs [32, 47, 176, 197, 40, 146, 93, 84, 22, 58, 246, 241, 78, 7, 86, 218, 200, 47, 251, 147, 128, 189, 48, 99, 34, 172, 139, 211, 173, 35, 61, 254, 79, 37, 142, 97, 223, 84, 149, 53, 8, 164, 170, 211, 104, 132, 111, 97, 193, 105, 146, 159, 36, 42, 162, 78, 122, 66, 207, 109, 242, 175, 56, 146]\n"
     ]
    }
   ],
   "source": [
    "decryption_bytes_list =[x for x in decryption_key_bytes ]\n",
    "print(\"decryption_Bytes\",decryption_bytes_list)\n",
    "print(\"length of key in byes\", len(decryption_key_bytes)*8)\n",
    "\n",
    "validation_key_bytes_list =[x for x in validation_key_bytes]\n",
    "print(\"validation_key_byes\", validation_key_bytes_list)\n",
    "\n",
    "key_purpose_list =[x for x in  key_purpose]\n",
    "print(\"key_purpose\", key_purpose_list)\n",
    "\n",
    "key_purpose_padded_list =[x for x in  key_purpose_padded]\n",
    "# key purpose with length at end\n",
    "# key_purpose_padded_list[-1] =len(decryption_key_bytes)*8\n",
    "print(\"key_purpose_padded\", key_purpose_padded_list)\n",
    "\n",
    "cookie_bytes_list =[x for x in cookie_bytes ]\n",
    "print(\"cookie Bytes\",cookie_bytes_list)\n",
    "len(cookie_bytes_list)-64\n",
    "cookie_hash_list=[x for x in cookie_hash ]\n",
    "print(\"cookieHahs\",cookie_hash_list)"
   ]
  },
  {
   "cell_type": "code",
   "execution_count": 3,
   "id": "4eaa8edb",
   "metadata": {},
   "outputs": [],
   "source": [
    "import hmac\n",
    "import hashlib\n",
    "\n",
    "key = b\"YourSecretKey\" # Secret key as bytes\n",
    "message = b\"YourMessage\" # Message as bytes\n",
    "\n",
    "h = hmac.new(key, message, hashlib.sha512)"
   ]
  },
  {
   "cell_type": "code",
   "execution_count": null,
   "id": "f6531749",
   "metadata": {},
   "outputs": [
    {
     "name": "stdout",
     "output_type": "stream",
     "text": [
      "[0, 0, 0, 1]\n",
      "[0, 0, 0, 1, 70, 111, 114, 109, 115, 65, 117, 116, 104, 101, 110, 116, 105, 99, 97, 116, 105, 111, 110, 46, 84, 105, 99, 107, 101, 116, 0, 0, 0, 0, 192]\n",
      "<hmac.HMAC object at 0x0000000000BBE890>\n",
      "[0, 0, 0, 1]\n",
      "[0, 0, 0, 1, 70, 111, 114, 109, 115, 65, 117, 116, 104, 101, 110, 116, 105, 99, 97, 116, 105, 111, 110, 46, 84, 105, 99, 107, 101, 116, 0, 0, 0, 2, 0]\n",
      "<hmac.HMAC object at 0x0000000000BBEED0>\n",
      "dervived d key [222, 80, 53, 35, 144, 215, 86, 22, 152, 37, 111, 39, 215, 75, 178, 86, 198, 67, 248, 132, 122, 210, 142, 161]\n",
      "dervived v key [137, 96, 235, 25, 95, 3, 113, 235, 247, 25, 32, 65, 7, 39, 45, 102, 2, 244, 79, 66, 129, 171, 169, 47, 210, 198, 216, 27, 228, 238, 4, 189, 221, 89, 128, 222, 203, 238, 92, 123, 184, 186, 126, 11, 167, 246, 66, 126, 224, 196, 117, 82, 180, 235, 59, 2, 133, 173, 212, 77, 108, 205, 161, 54]\n",
      "signatures match  True\n"
     ]
    }
   ],
   "source": [
    "from copy import copy\n",
    "import hmac\n",
    "import hashlib\n",
    "\n",
    "# this is the decryption key Derived\n",
    "derived_key =[]\n",
    "for i  in range(1, len(decryption_key_bytes)):\n",
    "    by =i.to_bytes(byteorder=\"big\", signed=False, length=4)\n",
    "    print([x for x in by])\n",
    "    key_purpose_padded_cp = by +key_purpose_padded[4:]\n",
    "    h = hmac.new(decryption_key_bytes, key_purpose_padded_cp, hashlib.sha512)\n",
    "    print([x for x in key_purpose_padded_cp])\n",
    "    print(h)\n",
    "    byte_copy_length = min(len(h.digest()),len(decryption_key_bytes) )\n",
    "    derived_key+=h.digest()[:byte_copy_length]    #this is the Derived key\n",
    "    if len(decryption_key_bytes)<=len(derived_key):\n",
    "        break\n",
    "\n",
    "# we now have to do the same thing with the Validation key\n",
    "derived_v_key =[]\n",
    "for i  in range(1, len(validation_key_bytes)):\n",
    "    by =i.to_bytes(byteorder=\"big\", signed=False, length=4)\n",
    "    print([x for x in by])\n",
    "    key_purpose_padded_cp = by +key_purpose_padded[4:]\n",
    "    h = hmac.new(validation_key_bytes, key_purpose_padded_cp, hashlib.sha512)\n",
    "    print([x for x in key_purpose_padded_cp])\n",
    "    print(h)\n",
    "    byte_copy_length = min(len(h.digest()),len(validation_key_bytes) )\n",
    "    derived_v_key+=h.digest()[:byte_copy_length]    #this is the Derived key\n",
    "    if len(validation_key_bytes)<=len(derived_v_key):\n",
    "        break\n",
    "\n",
    "print(\"derived d key\",derived_key)\n",
    "print(\"derived v key\", derived_v_key)\n",
    "\n",
    "\n",
    "hv =hmac.HMAC(bytes(bytearray(derived_v_key)), cookie_bytes[:-64], hashlib.sha512)\n",
    "# print([x for x in hv.digest()])\n",
    "print(\"signatures match \",cookie_hash == hv.digest())\n",
    "\n",
    "cookie_no_sig = cookie_bytes[:-64]\n",
    "\n"
   ]
  },
  {
   "cell_type": "code",
   "execution_count": null,
   "id": "f32c50cb",
   "metadata": {},
   "outputs": [
    {
     "name": "stdout",
     "output_type": "stream",
     "text": [
      "iv [57, 94, 81, 136, 31, 226, 165, 93, 246, 70, 116, 46, 157, 59, 9, 82]\n",
      "length: 541 decrypted Cookie [1, 2, 43, 54, 156, 115, 14, 165, 221, 8, 254, 43, 182, 111, 200, 160, 166, 221, 8, 0, 17, 67, 0, 104, 0, 114, 0, 105, 0, 115, 0, 116, 0, 111, 0, 112, 0, 104, 0, 101, 0, 114, 0, 32, 0, 75, 0, 97, 0, 100, 0, 97, 0, 114, 0, 240, 1, 111, 0, 105, 0, 100, 0, 61, 0, 49, 0, 38, 0, 111, 0, 110, 0, 61, 0, 72, 0, 111, 0, 110, 0, 101, 0, 121, 0, 119, 0, 101, 0, 108, 0, 108, 0, 43, 0, 83, 0, 101, 0, 99, 0, 117, 0, 114, 0, 105, 0, 116, 0, 121, 0, 43, 0, 65, 0, 109, 0, 101, 0, 114, 0, 105, 0, 99, 0, 97, 0, 115, 0, 43, 0, 76, 0, 76, 0, 67, 0, 38, 0, 99, 0, 105, 0, 100, 0, 61, 0, 49, 0, 38, 0, 99, 0, 110, 0, 61, 0, 72, 0, 111, 0, 110, 0, 101, 0, 121, 0, 119, 0, 101, 0, 108, 0, 108, 0, 43, 0, 83, 0, 101, 0, 99, 0, 117, 0, 114, 0, 105, 0, 116, 0, 121, 0, 43, 0, 65, 0, 109, 0, 101, 0, 114, 0, 105, 0, 99, 0, 97, 0, 115, 0, 43, 0, 76, 0, 76, 0, 67, 0, 38, 0, 108, 0, 99, 0, 105, 0, 100, 0, 61, 0, 49, 0, 38, 0, 117, 0, 105, 0, 100, 0, 61, 0, 56, 0, 98, 0, 48, 0, 48, 0, 52, 0, 100, 0, 102, 0, 55, 0, 45, 0, 49, 0, 100, 0, 49, 0, 55, 0, 45, 0, 52, 0, 48, 0, 57, 0, 97, 0, 45, 0, 57, 0, 100, 0, 100, 0, 99, 0, 45, 0, 98, 0, 51, 0, 56, 0, 99, 0, 97, 0, 49, 0, 99, 0, 57, 0, 101, 0, 57, 0, 49, 0, 51, 0, 38, 0, 108, 0, 117, 0, 105, 0, 100, 0, 61, 0, 56, 0, 98, 0, 48, 0, 48, 0, 52, 0, 100, 0, 102, 0, 55, 0, 45, 0, 49, 0, 100, 0, 49, 0, 55, 0, 45, 0, 52, 0, 48, 0, 57, 0, 97, 0, 45, 0, 57, 0, 100, 0, 100, 0, 99, 0, 45, 0, 98, 0, 51, 0, 56, 0, 99, 0, 97, 0, 49, 0, 99, 0, 57, 0, 101, 0, 57, 0, 49, 0, 51, 0, 38, 0, 99, 0, 116, 0, 61, 0, 83, 0, 50, 0, 38, 0, 108, 0, 99, 0, 116, 0, 61, 0, 83, 0, 50, 0, 38, 0, 108, 0, 101, 0, 61, 0, 99, 0, 104, 0, 114, 0, 105, 0, 115, 0, 116, 0, 111, 0, 112, 0, 104, 0, 101, 0, 114, 0, 46, 0, 107, 0, 97, 0, 100, 0, 97, 0, 114, 0, 64, 0, 104, 0, 111, 0, 110, 0, 101, 0, 121, 0, 119, 0, 101, 0, 108, 0, 108, 0, 46, 0, 99, 0, 111, 0, 109, 0, 38, 0, 117, 0, 110, 0, 61, 0, 67, 0, 104, 0, 114, 0, 105, 0, 115, 0, 116, 0, 111, 0, 112, 0, 104, 0, 101, 0, 114, 0, 43, 0, 75, 0, 97, 0, 100, 0, 97, 0, 114, 0, 1, 47, 0, 255]\n"
     ]
    }
   ],
   "source": [
    "# decrypt the Cookie\n",
    "from Crypto.Cipher import AES\n",
    "from Crypto.Util.Padding import unpad\n",
    "iv =cookie_no_sig[:16]\n",
    "print(\"iv\", [x for x in iv])\n",
    "obj = AES.new(bytes(bytearray(derived_key)), AES.MODE_CBC, cookie_no_sig[:16])\n",
    "decrypted_cookie =unpad(obj.decrypt(cookie_no_sig[16:]), 16)\n",
    "print(\"length:\", len(decrypted_cookie), \"decrypted Cookie\", [x for x in decrypted_cookie])"
   ]
  },
  {
   "cell_type": "code",
   "execution_count": null,
   "id": "f34bcb5b",
   "metadata": {},
   "outputs": [
    {
     "name": "stdout",
     "output_type": "stream",
     "text": [
      "serialized_version: 1\n",
      "ticket_version: 2\n",
      "ticket issued: 2025-06-06 15:26:04.422096+00:00\n",
      "254\n",
      "ticket experation: 2025-06-08 15:26:04.422096+00:00\n",
      "ticket persistance: 0\n",
      "ticket_name: b'Christopher Kadar'\n",
      "b'oid=1&on=Honeywell+Security+Americas+LLC&cid=1&cn=Honeywell+Security+Americas+LLC&lcid=1&uid=8b004df7-1d17-409a-9ddc-b38ca1c9e913&luid=8b004df7-1d17-409a-9ddc-b38ca1c9e913&ct=S2&lct=S2&le=christopher.kadar@honeywell.com&un=Christopher+Kadar'\n"
     ]
    }
   ],
   "source": [
    "# deserialize ticket\n",
    "import datetime as dt\n",
    "\n",
    "# serialization version \n",
    "serialized_version = decrypted_cookie[0]\n",
    "print(\"serialized_version:\", serialized_version)\n",
    "\n",
    "# ticket Version\n",
    "ticket_version = decrypted_cookie[1]\n",
    "print(\"ticket_version:\", ticket_version)\n",
    "\n",
    "# issued date\n",
    "ticked_issued = int.from_bytes(decrypted_cookie[2:10] , byteorder=\"little\", signed=True)\n",
    "ticked_issued_second = ticked_issued/10_000_000\n",
    "utc_datetime_issued = dt.datetime(1,1,1, tzinfo=dt.timezone.utc) +dt.timedelta(seconds=ticked_issued_second)\n",
    "print(\"ticket issued:\",utc_datetime_issued )\n",
    "\n",
    "# read spacer it better be 254\n",
    "print(decrypted_cookie[10])\n",
    "\n",
    "# expiration\n",
    "ticked_expiration = int.from_bytes(decrypted_cookie[11:19] , byteorder=\"little\", signed=True)\n",
    "ticked_expiration_second = ticked_expiration/10_000_000\n",
    "utc_ticked_expiration = dt.datetime(1,1,1, tzinfo=dt.timezone.utc) +dt.timedelta(seconds=ticked_expiration_second)\n",
    "print(\"ticket expiration:\",utc_ticked_expiration )\n",
    "\n",
    "# ticket persistence\n",
    "ticket_persistence= decrypted_cookie[19]\n",
    "print(\"ticket persistence:\" , ticket_persistence)\n",
    "\n",
    "# ticket name\n",
    "bytes_to_read1 = decrypted_cookie[20]*2\n",
    "name_start =21\n",
    "name_end = 21+bytes_to_read1\n",
    "ticket_name =(decrypted_cookie[name_start:name_end ]).replace(b\"\\x00\",b\"\")\n",
    "print(\"ticket_name:\", ticket_name)\n",
    "\n",
    "# ticket encoded data\n",
    "ticket_data_l = name_end\n",
    "ticket_data_s = ticket_data_l+2\n",
    "bytes_to_read2 = decrypted_cookie[ticket_data_l]*2\n",
    "ticket_data_end = ticket_data_s +bytes_to_read2\n",
    "ticket_data = (decrypted_cookie[ticket_data_s :ticket_data_end]).replace(b\"\\x00\",b\"\")\n",
    "print(ticket_data)\n",
    "\n"
   ]
  },
  {
   "cell_type": "code",
   "execution_count": null,
   "id": "bae9e739",
   "metadata": {},
   "outputs": [],
   "source": [
    "\n",
    "\n",
    "\n",
    "key_purpose_padded_cp = copy(key_purpose_padded)\n",
    "# write_uint32_to_byte_array_big_endian(len(decryption_key_bytes)*8, key_purpose_padded_cp, 5+len(key_purpose))\n",
    "val =len(decryption_key_bytes)*8\n",
    "val.to_bytes(byteorder=\"big\", signed=False)\n",
    "int(val)\n",
    "# int_value = int.from_bytes(val, byteorder='big', signed=False)"
   ]
  },
  {
   "cell_type": "code",
   "execution_count": 57,
   "id": "887534aa",
   "metadata": {},
   "outputs": [
    {
     "name": "stdout",
     "output_type": "stream",
     "text": [
      "[0, 0, 0, 1]\n"
     ]
    }
   ],
   "source": [
    "num =1\n",
    "by =num.to_bytes(byteorder=\"big\", signed=False, length=4)\n",
    "print([x for x in by])"
   ]
  }
 ],
 "metadata": {
  "kernelspec": {
   "display_name": ".venv",
   "language": "python",
   "name": "python3"
  },
  "language_info": {
   "codemirror_mode": {
    "name": "ipython",
    "version": 3
   },
   "file_extension": ".py",
   "mimetype": "text/x-python",
   "name": "python",
   "nbconvert_exporter": "python",
   "pygments_lexer": "ipython3",
   "version": "3.12.10"
  }
 },
 "nbformat": 4,
 "nbformat_minor": 5
}
